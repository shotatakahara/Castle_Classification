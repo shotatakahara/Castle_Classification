{
  "nbformat": 4,
  "nbformat_minor": 5,
  "metadata": {
    "accelerator": "GPU",
    "colab": {
      "name": "CastleClassification.ipynb",
      "provenance": [],
      "collapsed_sections": [],
      "include_colab_link": true
    },
    "kernelspec": {
      "display_name": "Python 3",
      "language": "python",
      "name": "python3"
    },
    "language_info": {
      "codemirror_mode": {
        "name": "ipython",
        "version": 3
      },
      "file_extension": ".py",
      "mimetype": "text/x-python",
      "name": "python",
      "nbconvert_exporter": "python",
      "pygments_lexer": "ipython3",
      "version": "3.8.10"
    }
  },
  "cells": [
    {
      "cell_type": "markdown",
      "metadata": {
        "id": "view-in-github",
        "colab_type": "text"
      },
      "source": [
        "<a href=\"https://colab.research.google.com/github/shotatakahara/Castle_Classification/blob/main/CastleClassification.ipynb\" target=\"_parent\"><img src=\"https://colab.research.google.com/assets/colab-badge.svg\" alt=\"Open In Colab\"/></a>"
      ]
    },
    {
      "cell_type": "code",
      "metadata": {
        "id": "f44e620e"
      },
      "source": [
        "import numpy as np\n",
        "import pandas as pd\n",
        "import matplotlib.pyplot as plt\n",
        "\n",
        "from sklearn.model_selection import train_test_split\n",
        "import tensorflow as tf\n",
        "from tensorflow import keras\n",
        "from __future__ import absolute_import, division, print_function\n",
        "from keras.callbacks import EarlyStopping, ModelCheckpoint"
      ],
      "id": "f44e620e",
      "execution_count": 1,
      "outputs": []
    },
    {
      "cell_type": "code",
      "metadata": {
        "colab": {
          "base_uri": "https://localhost:8080/"
        },
        "id": "yyLiD8selTeI",
        "outputId": "4fcc23c6-afae-49c4-cd14-542db19f6ff4"
      },
      "source": [
        "from google.colab import drive\n",
        "drive.mount('/content/drive')"
      ],
      "id": "yyLiD8selTeI",
      "execution_count": 2,
      "outputs": [
        {
          "output_type": "stream",
          "text": [
            "Mounted at /content/drive\n"
          ],
          "name": "stdout"
        }
      ]
    },
    {
      "cell_type": "markdown",
      "metadata": {
        "id": "20b9d48c"
      },
      "source": [
        "#### road data"
      ],
      "id": "20b9d48c"
    },
    {
      "cell_type": "code",
      "metadata": {
        "id": "c2d16a6a"
      },
      "source": [
        "#データ読込\n",
        "traindata = np.load(r\"/content/drive/MyDrive/1_deliverable/castle/castle_data.npy\")\n",
        "trainlabel = np.load(r\"/content/drive/MyDrive/1_deliverable/castle/label.npy\")"
      ],
      "id": "c2d16a6a",
      "execution_count": 3,
      "outputs": []
    },
    {
      "cell_type": "code",
      "metadata": {
        "colab": {
          "base_uri": "https://localhost:8080/"
        },
        "id": "341aa0eb",
        "outputId": "7e253736-2907-4d92-875f-3a1a543fce79"
      },
      "source": [
        "#大きさ確認\n",
        "print(traindata.shape)\n",
        "print(trainlabel.shape)\n",
        "u, counts = np.unique(trainlabel, return_counts=True)\n",
        "print(u,counts)"
      ],
      "id": "341aa0eb",
      "execution_count": 4,
      "outputs": [
        {
          "output_type": "stream",
          "text": [
            "(541, 224, 224, 3)\n",
            "(541,)\n",
            "[0. 1.] [293 248]\n"
          ],
          "name": "stdout"
        }
      ]
    },
    {
      "cell_type": "code",
      "metadata": {
        "colab": {
          "base_uri": "https://localhost:8080/"
        },
        "id": "178ca063",
        "outputId": "6612721b-70ae-4110-f3df-3363618e4daf"
      },
      "source": [
        "#欠損値確認\n",
        "print(np.count_nonzero(np.isnan(traindata)))\n",
        "print(np.count_nonzero(np.isnan(trainlabel)))"
      ],
      "id": "178ca063",
      "execution_count": 5,
      "outputs": [
        {
          "output_type": "stream",
          "text": [
            "0\n",
            "0\n"
          ],
          "name": "stdout"
        }
      ]
    },
    {
      "cell_type": "code",
      "metadata": {
        "id": "9e0ce206"
      },
      "source": [
        "X_train, X_val, y_train, y_val = train_test_split(traindata,\n",
        "                                                  trainlabel,\n",
        "                                                  test_size=0.1,\n",
        "                                                  random_state=2021,\n",
        "                                                  shuffle=True,\n",
        "                                                  stratify=trainlabel)#trainとvalで比率を同じにする"
      ],
      "id": "9e0ce206",
      "execution_count": 6,
      "outputs": []
    },
    {
      "cell_type": "code",
      "metadata": {
        "colab": {
          "base_uri": "https://localhost:8080/"
        },
        "id": "686b26d7",
        "outputId": "ce69a787-eb5a-4034-b404-605611c92038"
      },
      "source": [
        "print(X_train.shape)\n",
        "print(X_val.shape)\n",
        "print(y_train.shape)\n",
        "print(y_val.shape)"
      ],
      "id": "686b26d7",
      "execution_count": 7,
      "outputs": [
        {
          "output_type": "stream",
          "text": [
            "(486, 224, 224, 3)\n",
            "(55, 224, 224, 3)\n",
            "(486,)\n",
            "(55,)\n"
          ],
          "name": "stdout"
        }
      ]
    },
    {
      "cell_type": "markdown",
      "metadata": {
        "id": "a9a57d9e"
      },
      "source": [
        "#### 学習"
      ],
      "id": "a9a57d9e"
    },
    {
      "cell_type": "code",
      "metadata": {
        "colab": {
          "base_uri": "https://localhost:8080/"
        },
        "id": "2822440e",
        "outputId": "496868cf-7f5f-45a5-9b79-0a9eedddcf2a"
      },
      "source": [
        "model = keras.Sequential([keras.layers.Conv2D(filters=16,\n",
        "                                              kernel_size=(3, 3),\n",
        "                                              strides=(1, 1),\n",
        "                                              padding='same',\n",
        "                                              data_format='channels_last',#(batch, height, width, channels)\"\n",
        "                                              name='conv_1',\n",
        "                                              activation='relu'),\n",
        "                          keras.layers.MaxPool2D(pool_size=(2, 2),\n",
        "                                                 name='pool_1'),\n",
        "                          keras.layers.Conv2D(filters=32,\n",
        "                                              kernel_size=(3, 3),\n",
        "                                              strides=(1, 1),\n",
        "                                              padding='same',\n",
        "                                              data_format='channels_last',#(batch, height, width, channels)\"\n",
        "                                              name='conv_2',\n",
        "                                              activation='relu'),\n",
        "                          keras.layers.MaxPool2D(pool_size=(2, 2),\n",
        "                                                 name='pool_2'),\n",
        "                          keras.layers.Conv2D(filters=64,\n",
        "                                              kernel_size=(3, 3),\n",
        "                                              strides=(1, 1),\n",
        "                                              padding='same',\n",
        "                                              data_format='channels_last',#(batch, height, width, channels)\"\n",
        "                                              name='conv_3',\n",
        "                                              activation='relu'),\n",
        "                          keras.layers.MaxPool2D(pool_size=(2, 2),\n",
        "                                                 name='pool_3'),\n",
        "                          keras.layers.Flatten(input_shape=(32,32,32)),\n",
        "                          keras.layers.Dropout(rate=0.5),\n",
        "                          keras.layers.Dense(1200, activation='relu'),\n",
        "                          keras.layers.Dropout(rate=0.5),\n",
        "                          keras.layers.Dense(120, activation='relu'),\n",
        "                          keras.layers.Dropout(rate=0.5),\n",
        "                          keras.layers.Dense(2, activation='softmax')#labelの数の出力と合うように設定\n",
        "                         ])\n",
        "model.build(input_shape=(None, 224, 224, 3))\n",
        "\n",
        "model.compile(optimizer='adam',#どのように学習させるか\n",
        "              loss='sparse_categorical_crossentropy',#誤差関数\n",
        "              metrics=['accuracy'])#監視するもの\n",
        "\n",
        "model.summary()"
      ],
      "id": "2822440e",
      "execution_count": 34,
      "outputs": [
        {
          "output_type": "stream",
          "text": [
            "Model: \"sequential_2\"\n",
            "_________________________________________________________________\n",
            "Layer (type)                 Output Shape              Param #   \n",
            "=================================================================\n",
            "conv_1 (Conv2D)              (None, 224, 224, 16)      448       \n",
            "_________________________________________________________________\n",
            "pool_1 (MaxPooling2D)        (None, 112, 112, 16)      0         \n",
            "_________________________________________________________________\n",
            "conv_2 (Conv2D)              (None, 112, 112, 32)      4640      \n",
            "_________________________________________________________________\n",
            "pool_2 (MaxPooling2D)        (None, 56, 56, 32)        0         \n",
            "_________________________________________________________________\n",
            "conv_3 (Conv2D)              (None, 56, 56, 64)        18496     \n",
            "_________________________________________________________________\n",
            "pool_3 (MaxPooling2D)        (None, 28, 28, 64)        0         \n",
            "_________________________________________________________________\n",
            "flatten_2 (Flatten)          (None, 50176)             0         \n",
            "_________________________________________________________________\n",
            "dropout_6 (Dropout)          (None, 50176)             0         \n",
            "_________________________________________________________________\n",
            "dense_6 (Dense)              (None, 1200)              60212400  \n",
            "_________________________________________________________________\n",
            "dropout_7 (Dropout)          (None, 1200)              0         \n",
            "_________________________________________________________________\n",
            "dense_7 (Dense)              (None, 120)               144120    \n",
            "_________________________________________________________________\n",
            "dropout_8 (Dropout)          (None, 120)               0         \n",
            "_________________________________________________________________\n",
            "dense_8 (Dense)              (None, 2)                 242       \n",
            "=================================================================\n",
            "Total params: 60,380,346\n",
            "Trainable params: 60,380,346\n",
            "Non-trainable params: 0\n",
            "_________________________________________________________________\n"
          ],
          "name": "stdout"
        }
      ]
    },
    {
      "cell_type": "code",
      "metadata": {
        "colab": {
          "base_uri": "https://localhost:8080/"
        },
        "id": "rc_daUPVn8vy",
        "outputId": "a76f67ab-6b62-4c0d-a43b-b82d5ccd01e3"
      },
      "source": [
        "#コールバック設定\n",
        "es = EarlyStopping(monitor='val_loss',#監視対象\n",
        "                   patience=10,#監視対象の値がこの数が改善されなければ止める\n",
        "                   verbose=1)\n",
        "cp = ModelCheckpoint(filepath = '/content/drive/MyDrive/1_deliverable/castle/best_model.h5',#最良モデルをこの名前で保存\n",
        "                     monitor='val_loss',#監視対象\n",
        "                     save_best_only=True,\n",
        "                     verbose=1)\n",
        "\n",
        "   \n",
        "Learning=model.fit(x=X_train, \n",
        "                   y=y_train, \n",
        "                   validation_data=(X_val, y_val), \n",
        "                   #batch_size=32, \n",
        "                   epochs=100,\n",
        "                   callbacks=[es, cp], #コールバックの指定\n",
        "                   shuffle=True)\n"
      ],
      "id": "rc_daUPVn8vy",
      "execution_count": 35,
      "outputs": [
        {
          "output_type": "stream",
          "text": [
            "Epoch 1/100\n",
            "16/16 [==============================] - 1s 57ms/step - loss: 2.4258 - accuracy: 0.5329 - val_loss: 0.6883 - val_accuracy: 0.5455\n",
            "\n",
            "Epoch 00001: val_loss improved from inf to 0.68830, saving model to /content/drive/MyDrive/1_deliverable/castle/best_model.h5\n",
            "Epoch 2/100\n",
            "16/16 [==============================] - 1s 51ms/step - loss: 0.6890 - accuracy: 0.5576 - val_loss: 0.6779 - val_accuracy: 0.5455\n",
            "\n",
            "Epoch 00002: val_loss improved from 0.68830 to 0.67791, saving model to /content/drive/MyDrive/1_deliverable/castle/best_model.h5\n",
            "Epoch 3/100\n",
            "16/16 [==============================] - 1s 49ms/step - loss: 0.6732 - accuracy: 0.5658 - val_loss: 0.6702 - val_accuracy: 0.6545\n",
            "\n",
            "Epoch 00003: val_loss improved from 0.67791 to 0.67016, saving model to /content/drive/MyDrive/1_deliverable/castle/best_model.h5\n",
            "Epoch 4/100\n",
            "16/16 [==============================] - 1s 46ms/step - loss: 0.6557 - accuracy: 0.6255 - val_loss: 0.7744 - val_accuracy: 0.4545\n",
            "\n",
            "Epoch 00004: val_loss did not improve from 0.67016\n",
            "Epoch 5/100\n",
            "16/16 [==============================] - 1s 43ms/step - loss: 0.6499 - accuracy: 0.5947 - val_loss: 0.6066 - val_accuracy: 0.6545\n",
            "\n",
            "Epoch 00005: val_loss improved from 0.67016 to 0.60663, saving model to /content/drive/MyDrive/1_deliverable/castle/best_model.h5\n",
            "Epoch 6/100\n",
            "16/16 [==============================] - 1s 47ms/step - loss: 0.5272 - accuracy: 0.7325 - val_loss: 0.5256 - val_accuracy: 0.7091\n",
            "\n",
            "Epoch 00006: val_loss improved from 0.60663 to 0.52564, saving model to /content/drive/MyDrive/1_deliverable/castle/best_model.h5\n",
            "Epoch 7/100\n",
            "16/16 [==============================] - 1s 48ms/step - loss: 0.4199 - accuracy: 0.7922 - val_loss: 0.4629 - val_accuracy: 0.8000\n",
            "\n",
            "Epoch 00007: val_loss improved from 0.52564 to 0.46293, saving model to /content/drive/MyDrive/1_deliverable/castle/best_model.h5\n",
            "Epoch 8/100\n",
            "16/16 [==============================] - 1s 49ms/step - loss: 0.4766 - accuracy: 0.7757 - val_loss: 0.5178 - val_accuracy: 0.7273\n",
            "\n",
            "Epoch 00008: val_loss did not improve from 0.46293\n",
            "Epoch 9/100\n",
            "16/16 [==============================] - 1s 44ms/step - loss: 0.4351 - accuracy: 0.7860 - val_loss: 0.4626 - val_accuracy: 0.7636\n",
            "\n",
            "Epoch 00009: val_loss improved from 0.46293 to 0.46264, saving model to /content/drive/MyDrive/1_deliverable/castle/best_model.h5\n",
            "Epoch 10/100\n",
            "16/16 [==============================] - 1s 48ms/step - loss: 0.3626 - accuracy: 0.8498 - val_loss: 0.4425 - val_accuracy: 0.8182\n",
            "\n",
            "Epoch 00010: val_loss improved from 0.46264 to 0.44249, saving model to /content/drive/MyDrive/1_deliverable/castle/best_model.h5\n",
            "Epoch 11/100\n",
            "16/16 [==============================] - 1s 46ms/step - loss: 0.2992 - accuracy: 0.8889 - val_loss: 0.4274 - val_accuracy: 0.8364\n",
            "\n",
            "Epoch 00011: val_loss improved from 0.44249 to 0.42736, saving model to /content/drive/MyDrive/1_deliverable/castle/best_model.h5\n",
            "Epoch 12/100\n",
            "16/16 [==============================] - 1s 47ms/step - loss: 0.2272 - accuracy: 0.9177 - val_loss: 0.3832 - val_accuracy: 0.8545\n",
            "\n",
            "Epoch 00012: val_loss improved from 0.42736 to 0.38319, saving model to /content/drive/MyDrive/1_deliverable/castle/best_model.h5\n",
            "Epoch 13/100\n",
            "16/16 [==============================] - 1s 48ms/step - loss: 0.1691 - accuracy: 0.9300 - val_loss: 0.3084 - val_accuracy: 0.8727\n",
            "\n",
            "Epoch 00013: val_loss improved from 0.38319 to 0.30840, saving model to /content/drive/MyDrive/1_deliverable/castle/best_model.h5\n",
            "Epoch 14/100\n",
            "16/16 [==============================] - 1s 49ms/step - loss: 0.1197 - accuracy: 0.9630 - val_loss: 0.2923 - val_accuracy: 0.9091\n",
            "\n",
            "Epoch 00014: val_loss improved from 0.30840 to 0.29227, saving model to /content/drive/MyDrive/1_deliverable/castle/best_model.h5\n",
            "Epoch 15/100\n",
            "16/16 [==============================] - 1s 49ms/step - loss: 0.0904 - accuracy: 0.9712 - val_loss: 0.4289 - val_accuracy: 0.9091\n",
            "\n",
            "Epoch 00015: val_loss did not improve from 0.29227\n",
            "Epoch 16/100\n",
            "16/16 [==============================] - 1s 45ms/step - loss: 0.0728 - accuracy: 0.9671 - val_loss: 0.3746 - val_accuracy: 0.8545\n",
            "\n",
            "Epoch 00016: val_loss did not improve from 0.29227\n",
            "Epoch 17/100\n",
            "16/16 [==============================] - 1s 46ms/step - loss: 0.0717 - accuracy: 0.9733 - val_loss: 0.5010 - val_accuracy: 0.8545\n",
            "\n",
            "Epoch 00017: val_loss did not improve from 0.29227\n",
            "Epoch 18/100\n",
            "16/16 [==============================] - 1s 45ms/step - loss: 0.0677 - accuracy: 0.9774 - val_loss: 0.3954 - val_accuracy: 0.8727\n",
            "\n",
            "Epoch 00018: val_loss did not improve from 0.29227\n",
            "Epoch 19/100\n",
            "16/16 [==============================] - 1s 45ms/step - loss: 0.0488 - accuracy: 0.9856 - val_loss: 0.6112 - val_accuracy: 0.8727\n",
            "\n",
            "Epoch 00019: val_loss did not improve from 0.29227\n",
            "Epoch 20/100\n",
            "16/16 [==============================] - 1s 46ms/step - loss: 0.0422 - accuracy: 0.9856 - val_loss: 0.4719 - val_accuracy: 0.8545\n",
            "\n",
            "Epoch 00020: val_loss did not improve from 0.29227\n",
            "Epoch 21/100\n",
            "16/16 [==============================] - 1s 45ms/step - loss: 0.0405 - accuracy: 0.9877 - val_loss: 0.5665 - val_accuracy: 0.8545\n",
            "\n",
            "Epoch 00021: val_loss did not improve from 0.29227\n",
            "Epoch 22/100\n",
            "16/16 [==============================] - 1s 45ms/step - loss: 0.0210 - accuracy: 0.9918 - val_loss: 0.5037 - val_accuracy: 0.8545\n",
            "\n",
            "Epoch 00022: val_loss did not improve from 0.29227\n",
            "Epoch 23/100\n",
            "16/16 [==============================] - 1s 45ms/step - loss: 0.0322 - accuracy: 0.9897 - val_loss: 0.6136 - val_accuracy: 0.8727\n",
            "\n",
            "Epoch 00023: val_loss did not improve from 0.29227\n",
            "Epoch 24/100\n",
            "16/16 [==============================] - 1s 45ms/step - loss: 0.0108 - accuracy: 0.9959 - val_loss: 0.6241 - val_accuracy: 0.8727\n",
            "\n",
            "Epoch 00024: val_loss did not improve from 0.29227\n",
            "Epoch 00024: early stopping\n"
          ],
          "name": "stdout"
        }
      ]
    },
    {
      "cell_type": "code",
      "metadata": {
        "colab": {
          "base_uri": "https://localhost:8080/",
          "height": 285
        },
        "id": "fa9ff449",
        "outputId": "b57f29e0-130e-426a-b34f-e75d167a3708"
      },
      "source": [
        "hist = Learning.history\n",
        "x_arr = np.arange(len(hist['loss'])) + 1\n",
        "\n",
        "fig = plt.figure(figsize=(12, 4))\n",
        "# loss graph作成\n",
        "ax = fig.add_subplot(1, 2, 1)\n",
        "ax.plot(x_arr, hist['loss'], '-o', label='Train loss')\n",
        "ax.plot(x_arr, hist['val_loss'], '--<', label='Validation loss')\n",
        "ax.set_xlabel('Epoch', size=15)\n",
        "ax.set_ylabel('Loss', size=15)\n",
        "ax.legend(fontsize=15)\n",
        "# acc graph作成\n",
        "ax = fig.add_subplot(1, 2, 2)\n",
        "ax.plot(x_arr, hist['accuracy'], '-o', label='Train acc.')\n",
        "ax.plot(x_arr, hist['val_accuracy'], '--<', label='Validation acc.')\n",
        "ax.legend(fontsize=15)\n",
        "ax.set_xlabel('Epoch', size=15)\n",
        "ax.set_ylabel('Accuracy', size=15)\n",
        "plt.show()"
      ],
      "id": "fa9ff449",
      "execution_count": 36,
      "outputs": [
        {
          "output_type": "display_data",
          "data": {
            "image/png": "[encoded data removed]",
            "text/plain": [
              "<Figure size 864x288 with 2 Axes>"
            ]
          },
          "metadata": {
            "tags": [],
            "needs_background": "light"
          }
        }
      ]
    },
    {
      "cell_type": "markdown",
      "metadata": {
        "id": "WIn669XGwAvF"
      },
      "source": [
        "# 最良モデルの復元"
      ],
      "id": "WIn669XGwAvF"
    },
    {
      "cell_type": "code",
      "metadata": {
        "colab": {
          "base_uri": "https://localhost:8080/"
        },
        "id": "U9GAbc0CvUHt",
        "outputId": "23749179-aa01-4696-9a7e-30f981480247"
      },
      "source": [
        "new_model = tf.keras.models.load_model('/content/drive/MyDrive/1_deliverable/castle/best_model.h5')\n",
        "new_model.summary()"
      ],
      "id": "U9GAbc0CvUHt",
      "execution_count": 38,
      "outputs": [
        {
          "output_type": "stream",
          "text": [
            "Model: \"sequential_2\"\n",
            "_________________________________________________________________\n",
            "Layer (type)                 Output Shape              Param #   \n",
            "=================================================================\n",
            "conv_1 (Conv2D)              (None, 224, 224, 16)      448       \n",
            "_________________________________________________________________\n",
            "pool_1 (MaxPooling2D)        (None, 112, 112, 16)      0         \n",
            "_________________________________________________________________\n",
            "conv_2 (Conv2D)              (None, 112, 112, 32)      4640      \n",
            "_________________________________________________________________\n",
            "pool_2 (MaxPooling2D)        (None, 56, 56, 32)        0         \n",
            "_________________________________________________________________\n",
            "conv_3 (Conv2D)              (None, 56, 56, 64)        18496     \n",
            "_________________________________________________________________\n",
            "pool_3 (MaxPooling2D)        (None, 28, 28, 64)        0         \n",
            "_________________________________________________________________\n",
            "flatten_2 (Flatten)          (None, 50176)             0         \n",
            "_________________________________________________________________\n",
            "dropout_6 (Dropout)          (None, 50176)             0         \n",
            "_________________________________________________________________\n",
            "dense_6 (Dense)              (None, 1200)              60212400  \n",
            "_________________________________________________________________\n",
            "dropout_7 (Dropout)          (None, 1200)              0         \n",
            "_________________________________________________________________\n",
            "dense_7 (Dense)              (None, 120)               144120    \n",
            "_________________________________________________________________\n",
            "dropout_8 (Dropout)          (None, 120)               0         \n",
            "_________________________________________________________________\n",
            "dense_8 (Dense)              (None, 2)                 242       \n",
            "=================================================================\n",
            "Total params: 60,380,346\n",
            "Trainable params: 60,380,346\n",
            "Non-trainable params: 0\n",
            "_________________________________________________________________\n"
          ],
          "name": "stdout"
        }
      ]
    },
    {
      "cell_type": "code",
      "metadata": {
        "colab": {
          "base_uri": "https://localhost:8080/"
        },
        "id": "GaZunCcYvjCu",
        "outputId": "0e13a479-a7fd-4c76-b6f9-5b45f672f993"
      },
      "source": [
        "# リストアされたモデルを評価\n",
        "loss, acc = new_model.evaluate(X_val,y_val, verbose=1)#verboseは表示モード\n",
        "print('Restored model, accuracy: {:5.2f}%'.format(100*acc))"
      ],
      "id": "GaZunCcYvjCu",
      "execution_count": 40,
      "outputs": [
        {
          "output_type": "stream",
          "text": [
            "2/2 [==============================] - 0s 14ms/step - loss: 0.2923 - accuracy: 0.9091\n",
            "Restored model, accuracy: 90.91%\n"
          ],
          "name": "stdout"
        }
      ]
    },
    {
      "cell_type": "markdown",
      "metadata": {
        "id": "9PNln_JY0-ES"
      },
      "source": [
        "# 転移学習"
      ],
      "id": "9PNln_JY0-ES"
    },
    {
      "cell_type": "code",
      "metadata": {
        "id": "ykefPmz2wG92"
      },
      "source": [
        "from keras.applications.vgg16 import VGG16\n",
        "base_model = VGG16(weights='imagenet', include_top=False,input_shape=(224,224,3) ,pooling=\"avg\")#画像なのでImage-net,全結合層ありならばTrue\n",
        "\n",
        "X_train_vgg16 = base_model.predict(X_train)\n",
        "X_val_vgg16 = base_model.predict(X_val)"
      ],
      "id": "ykefPmz2wG92",
      "execution_count": 25,
      "outputs": []
    },
    {
      "cell_type": "code",
      "metadata": {
        "colab": {
          "base_uri": "https://localhost:8080/"
        },
        "id": "RGibKOZ7CDpO",
        "outputId": "0af0b914-38cb-486f-cb9a-70bc84a8820d"
      },
      "source": [
        "base_model.summary()"
      ],
      "id": "RGibKOZ7CDpO",
      "execution_count": 26,
      "outputs": [
        {
          "output_type": "stream",
          "text": [
            "Model: \"vgg16\"\n",
            "_________________________________________________________________\n",
            "Layer (type)                 Output Shape              Param #   \n",
            "=================================================================\n",
            "input_3 (InputLayer)         [(None, 224, 224, 3)]     0         \n",
            "_________________________________________________________________\n",
            "block1_conv1 (Conv2D)        (None, 224, 224, 64)      1792      \n",
            "_________________________________________________________________\n",
            "block1_conv2 (Conv2D)        (None, 224, 224, 64)      36928     \n",
            "_________________________________________________________________\n",
            "block1_pool (MaxPooling2D)   (None, 112, 112, 64)      0         \n",
            "_________________________________________________________________\n",
            "block2_conv1 (Conv2D)        (None, 112, 112, 128)     73856     \n",
            "_________________________________________________________________\n",
            "block2_conv2 (Conv2D)        (None, 112, 112, 128)     147584    \n",
            "_________________________________________________________________\n",
            "block2_pool (MaxPooling2D)   (None, 56, 56, 128)       0         \n",
            "_________________________________________________________________\n",
            "block3_conv1 (Conv2D)        (None, 56, 56, 256)       295168    \n",
            "_________________________________________________________________\n",
            "block3_conv2 (Conv2D)        (None, 56, 56, 256)       590080    \n",
            "_________________________________________________________________\n",
            "block3_conv3 (Conv2D)        (None, 56, 56, 256)       590080    \n",
            "_________________________________________________________________\n",
            "block3_pool (MaxPooling2D)   (None, 28, 28, 256)       0         \n",
            "_________________________________________________________________\n",
            "block4_conv1 (Conv2D)        (None, 28, 28, 512)       1180160   \n",
            "_________________________________________________________________\n",
            "block4_conv2 (Conv2D)        (None, 28, 28, 512)       2359808   \n",
            "_________________________________________________________________\n",
            "block4_conv3 (Conv2D)        (None, 28, 28, 512)       2359808   \n",
            "_________________________________________________________________\n",
            "block4_pool (MaxPooling2D)   (None, 14, 14, 512)       0         \n",
            "_________________________________________________________________\n",
            "block5_conv1 (Conv2D)        (None, 14, 14, 512)       2359808   \n",
            "_________________________________________________________________\n",
            "block5_conv2 (Conv2D)        (None, 14, 14, 512)       2359808   \n",
            "_________________________________________________________________\n",
            "block5_conv3 (Conv2D)        (None, 14, 14, 512)       2359808   \n",
            "_________________________________________________________________\n",
            "block5_pool (MaxPooling2D)   (None, 7, 7, 512)         0         \n",
            "_________________________________________________________________\n",
            "global_average_pooling2d_2 ( (None, 512)               0         \n",
            "=================================================================\n",
            "Total params: 14,714,688\n",
            "Trainable params: 14,714,688\n",
            "Non-trainable params: 0\n",
            "_________________________________________________________________\n"
          ],
          "name": "stdout"
        }
      ]
    },
    {
      "cell_type": "code",
      "metadata": {
        "colab": {
          "base_uri": "https://localhost:8080/"
        },
        "id": "JhmRCKpD1KNt",
        "outputId": "48341f97-0363-47ae-e30f-142351e138a1"
      },
      "source": [
        "from sklearn.svm import SVC\n",
        "clf = SVC(kernel=\"rbf\").fit(X_train_vgg16, y_train)\n",
        "\n",
        "from sklearn.metrics import accuracy_score\n",
        "print(\"acc = {}\".format(accuracy_score(clf.predict(X_train_vgg16), y_train)))\n",
        "print(\"val_acc = {}\".format(accuracy_score(clf.predict(X_val_vgg16), y_val)))"
      ],
      "id": "JhmRCKpD1KNt",
      "execution_count": 27,
      "outputs": [
        {
          "output_type": "stream",
          "text": [
            "acc = 0.9650205761316872\n",
            "val_acc = 0.9636363636363636\n"
          ],
          "name": "stdout"
        }
      ]
    },
    {
      "cell_type": "code",
      "metadata": {
        "colab": {
          "base_uri": "https://localhost:8080/"
        },
        "id": "nzDEWnSv5JAy",
        "outputId": "84947888-4b00-41ed-8894-63f9d1b6961b"
      },
      "source": [
        "clf.predict(X_val_vgg16)"
      ],
      "id": "nzDEWnSv5JAy",
      "execution_count": 28,
      "outputs": [
        {
          "output_type": "execute_result",
          "data": {
            "text/plain": [
              "array([0., 1., 0., 1., 0., 1., 0., 0., 0., 1., 1., 1., 0., 0., 0., 1., 1.,\n",
              "       0., 1., 0., 0., 0., 1., 1., 1., 1., 0., 0., 0., 0., 0., 1., 0., 0.,\n",
              "       1., 0., 0., 0., 1., 0., 0., 1., 0., 1., 0., 1., 1., 1., 1., 1., 0.,\n",
              "       1., 0., 1., 0.])"
            ]
          },
          "metadata": {
            "tags": []
          },
          "execution_count": 28
        }
      ]
    },
    {
      "cell_type": "code",
      "metadata": {
        "id": "c84c9da9"
      },
      "source": [
        ""
      ],
      "id": "c84c9da9",
      "execution_count": null,
      "outputs": []
    }
  ]
}